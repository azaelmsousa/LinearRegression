{
 "cells": [
  {
   "cell_type": "code",
   "execution_count": 1,
   "metadata": {},
   "outputs": [
    {
     "name": "stderr",
     "output_type": "stream",
     "text": [
      "/root/.local/lib/python3.5/site-packages/sklearn/ensemble/weight_boosting.py:29: DeprecationWarning: numpy.core.umath_tests is an internal NumPy module and should not be imported. It will be removed in a future NumPy release.\n",
      "  from numpy.core.umath_tests import inner1d\n"
     ]
    }
   ],
   "source": [
    "import sys\n",
    "import sys\n",
    "sys.path\n",
    "sys.path.append('../')\n",
    "\n",
    "import numpy as np\n",
    "from diamonds import experiments, normal_equation\n",
    "\n",
    "import warnings\n",
    "warnings.filterwarnings(\"ignore\", category=DeprecationWarning) \n",
    "scoring = {\n",
    "    \t'Negative MSE': 'neg_mean_squared_error',\n",
    "    \t'Negative MAE': 'neg_mean_absolute_error',\n",
    "    \t'R2': 'r2'\n",
    "\t}\n",
    "\n",
    "syntect_features = ['volume', 'ratio_xy', 'ratio_xz']\n",
    "val_size = .15\n",
    "params = {}#{'learning_rate': 'invscaling', 'max_iter': 5000, 'eta0': 0.1}"
   ]
  },
  {
   "cell_type": "markdown",
   "metadata": {},
   "source": [
    "## Discution 1\n",
    "  - Using the SKlearn SGDregressor with basic params we are now comparing the results.\n",
    "  - Kept only the best results from the first experiment to run the GridSearch for the parameters\n",
    "  - The Log(Y) kept the algorithm more robust reducing the errors mean value\n",
    "  - The Scale kept the algorithm more robust reducing the errors mean value\n",
    "  - The syntetic features wherever they appeards reduces the standard deviation from the MAE/MSE and RSME\n"
   ]
  },
  {
   "cell_type": "code",
   "execution_count": 2,
   "metadata": {},
   "outputs": [
    {
     "data": {
      "text/plain": [
       "SGDRegressor(alpha=0.0001, average=False, epsilon=0.1, eta0=0.01,\n",
       "       fit_intercept=True, l1_ratio=0.15, learning_rate='invscaling',\n",
       "       loss='squared_loss', max_iter=None, n_iter=None, penalty=None,\n",
       "       power_t=0.25, random_state=None, shuffle=True, tol=None,\n",
       "       verbose=True, warm_start=False)"
      ]
     },
     "execution_count": 2,
     "metadata": {},
     "output_type": "execute_result"
    }
   ],
   "source": [
    "regr = experiments.get_sklearn_sgd(params)\n",
    "regr"
   ]
  },
  {
   "cell_type": "markdown",
   "metadata": {},
   "source": [
    "## Adding syntect features ['volume', 'ratio_xy']"
   ]
  },
  {
   "cell_type": "code",
   "execution_count": 3,
   "metadata": {},
   "outputs": [],
   "source": [
    "X = experiments.load_train_data()\n",
    "folds, (X_train, X_test, y_train, y_test) = experiments.gen_splits(X, scale=True, \n",
    "                                                             exclude_features=['ratio_xz'])"
   ]
  },
  {
   "cell_type": "markdown",
   "metadata": {},
   "source": [
    "### Log(price)"
   ]
  },
  {
   "cell_type": "code",
   "execution_count": 4,
   "metadata": {
    "scrolled": false
   },
   "outputs": [
    {
     "name": "stdout",
     "output_type": "stream",
     "text": [
      "Evaluating 0\n",
      "Evaluating 1\n",
      "Evaluating 2\n",
      "Evaluating 3\n",
      "Evaluating 4\n",
      "RMSE: \t 1609.3210 +/- 97.7450\n",
      "MSE:  \t 2599468.0829 +/- 319313.5273\n",
      "MAE:  \t 714.2778 +/- 27.7334\n",
      "R2:   \t 0.8172 +/- 0.0210\n"
     ]
    },
    {
     "name": "stderr",
     "output_type": "stream",
     "text": [
      "/root/.local/lib/python3.5/site-packages/sklearn/linear_model/stochastic_gradient.py:128: FutureWarning: max_iter and tol parameters have been added in <class 'sklearn.linear_model.stochastic_gradient.SGDRegressor'> in 0.19. If both are left unset, they default to max_iter=5 and tol=None. If tol is not None, max_iter defaults to max_iter=1000. From 0.21, default max_iter will be 1000, and default tol will be 1e-3.\n",
      "  \"and default tol will be 1e-3.\" % type(self), FutureWarning)\n"
     ]
    }
   ],
   "source": [
    "experiments.kfold_evaluate(regr, folds, scoring, log_y=True)"
   ]
  },
  {
   "cell_type": "code",
   "execution_count": null,
   "metadata": {},
   "outputs": [],
   "source": []
  },
  {
   "cell_type": "markdown",
   "metadata": {},
   "source": [
    "## Adding syntect features ['volume', 'ratio_xz']"
   ]
  },
  {
   "cell_type": "code",
   "execution_count": 5,
   "metadata": {},
   "outputs": [],
   "source": [
    "X = experiments.load_train_data()\n",
    "folds, (X_train, X_test, y_train, y_test) = experiments.gen_splits(X, scale=True, \n",
    "                                                             exclude_features=['ratio_xy'])"
   ]
  },
  {
   "cell_type": "markdown",
   "metadata": {},
   "source": [
    "### Log(price)"
   ]
  },
  {
   "cell_type": "code",
   "execution_count": 6,
   "metadata": {
    "scrolled": false
   },
   "outputs": [
    {
     "name": "stdout",
     "output_type": "stream",
     "text": [
      "Evaluating 0\n",
      "Evaluating 1\n",
      "Evaluating 2\n",
      "Evaluating 3\n",
      "Evaluating 4\n",
      "RMSE: \t 1633.7756 +/- 91.1391\n",
      "MSE:  \t 2677528.9644 +/- 302051.6732\n",
      "MAE:  \t 718.6580 +/- 28.2871\n",
      "R2:   \t 0.8117 +/- 0.0197\n"
     ]
    },
    {
     "name": "stderr",
     "output_type": "stream",
     "text": [
      "/root/.local/lib/python3.5/site-packages/sklearn/linear_model/stochastic_gradient.py:128: FutureWarning: max_iter and tol parameters have been added in <class 'sklearn.linear_model.stochastic_gradient.SGDRegressor'> in 0.19. If both are left unset, they default to max_iter=5 and tol=None. If tol is not None, max_iter defaults to max_iter=1000. From 0.21, default max_iter will be 1000, and default tol will be 1e-3.\n",
      "  \"and default tol will be 1e-3.\" % type(self), FutureWarning)\n"
     ]
    }
   ],
   "source": [
    "experiments.kfold_evaluate(regr, folds, scoring, log_y=True)"
   ]
  },
  {
   "cell_type": "code",
   "execution_count": null,
   "metadata": {},
   "outputs": [],
   "source": []
  },
  {
   "cell_type": "markdown",
   "metadata": {},
   "source": [
    "## Adding syntect features ['volume', 'ratio_xy', 'ratio_xz']"
   ]
  },
  {
   "cell_type": "code",
   "execution_count": 7,
   "metadata": {},
   "outputs": [],
   "source": [
    "X = experiments.load_train_data()\n",
    "folds, (X_train, X_test, y_train, y_test) = experiments.gen_splits(X, scale=True, \n",
    "                                                             exclude_features=[])"
   ]
  },
  {
   "cell_type": "markdown",
   "metadata": {},
   "source": [
    "### Log(price)"
   ]
  },
  {
   "cell_type": "code",
   "execution_count": 8,
   "metadata": {
    "scrolled": false
   },
   "outputs": [
    {
     "name": "stdout",
     "output_type": "stream",
     "text": [
      "Evaluating 0\n",
      "Evaluating 1\n",
      "Evaluating 2\n",
      "Evaluating 3\n",
      "Evaluating 4\n",
      "RMSE: \t 1541.6432 +/- 91.7475\n",
      "MSE:  \t 2385081.3106 +/- 277095.3156\n",
      "MAE:  \t 697.8126 +/- 20.5680\n",
      "R2:   \t 0.8321 +/- 0.0192\n"
     ]
    },
    {
     "name": "stderr",
     "output_type": "stream",
     "text": [
      "/root/.local/lib/python3.5/site-packages/sklearn/linear_model/stochastic_gradient.py:128: FutureWarning: max_iter and tol parameters have been added in <class 'sklearn.linear_model.stochastic_gradient.SGDRegressor'> in 0.19. If both are left unset, they default to max_iter=5 and tol=None. If tol is not None, max_iter defaults to max_iter=1000. From 0.21, default max_iter will be 1000, and default tol will be 1e-3.\n",
      "  \"and default tol will be 1e-3.\" % type(self), FutureWarning)\n"
     ]
    }
   ],
   "source": [
    "experiments.kfold_evaluate(regr, folds, scoring, log_y=True)"
   ]
  },
  {
   "cell_type": "markdown",
   "metadata": {},
   "source": [
    "----"
   ]
  },
  {
   "cell_type": "markdown",
   "metadata": {},
   "source": [
    "## Discution 2\n",
    "  - The results doesn't appear to have an statistical difference between then, since the mean and std deviation are practically the same. Although the result with features included has a better R2. \n",
    "  - The SGD goes almost to the same minimal as the normal equation results.\n",
    "  - Whe are now running the GridSearch CV for the SGD to look for better parameters and will be using the last dataset above. \n"
   ]
  },
  {
   "cell_type": "code",
   "execution_count": 9,
   "metadata": {},
   "outputs": [
    {
     "ename": "NameError",
     "evalue": "name 'GridSearchCV' is not defined",
     "output_type": "error",
     "traceback": [
      "\u001b[0;31m---------------------------------------------------------------------------\u001b[0m",
      "\u001b[0;31mNameError\u001b[0m                                 Traceback (most recent call last)",
      "\u001b[0;32m<ipython-input-9-c099249a6ce2>\u001b[0m in \u001b[0;36m<module>\u001b[0;34m()\u001b[0m\n\u001b[1;32m     14\u001b[0m \u001b[0;34m\u001b[0m\u001b[0m\n\u001b[1;32m     15\u001b[0m \u001b[0;31m# We are using R2 to refit because it gave a better view of the results above when compared with the MSE and MAE\u001b[0m\u001b[0;34m\u001b[0m\u001b[0;34m\u001b[0m\u001b[0m\n\u001b[0;32m---> 16\u001b[0;31m \u001b[0mregr\u001b[0m \u001b[0;34m=\u001b[0m \u001b[0mGridSearchCV\u001b[0m\u001b[0;34m(\u001b[0m\u001b[0mlinear_model\u001b[0m\u001b[0;34m.\u001b[0m\u001b[0mSGDRegressor\u001b[0m\u001b[0;34m(\u001b[0m\u001b[0;34m)\u001b[0m\u001b[0;34m,\u001b[0m \u001b[0mparams\u001b[0m\u001b[0;34m,\u001b[0m \u001b[0mcv\u001b[0m\u001b[0;34m=\u001b[0m\u001b[0;36m5\u001b[0m\u001b[0;34m,\u001b[0m \u001b[0mscoring\u001b[0m\u001b[0;34m=\u001b[0m\u001b[0mscoring\u001b[0m\u001b[0;34m,\u001b[0m \u001b[0mrefit\u001b[0m\u001b[0;34m=\u001b[0m\u001b[0;34m'R2'\u001b[0m\u001b[0;34m,\u001b[0m \u001b[0mn_jobs\u001b[0m\u001b[0;34m=\u001b[0m\u001b[0;34m-\u001b[0m\u001b[0;36m1\u001b[0m\u001b[0;34m,\u001b[0m \u001b[0mverbose\u001b[0m\u001b[0;34m=\u001b[0m\u001b[0;32mTrue\u001b[0m\u001b[0;34m)\u001b[0m\u001b[0;34m\u001b[0m\u001b[0m\n\u001b[0m\u001b[1;32m     17\u001b[0m \u001b[0mregr\u001b[0m\u001b[0;34m.\u001b[0m\u001b[0mfit\u001b[0m\u001b[0;34m(\u001b[0m\u001b[0mX_train\u001b[0m\u001b[0;34m,\u001b[0m \u001b[0mnp\u001b[0m\u001b[0;34m.\u001b[0m\u001b[0mlog\u001b[0m\u001b[0;34m(\u001b[0m\u001b[0my_train\u001b[0m\u001b[0;34m)\u001b[0m\u001b[0;34m)\u001b[0m\u001b[0;34m\u001b[0m\u001b[0m\n",
      "\u001b[0;31mNameError\u001b[0m: name 'GridSearchCV' is not defined"
     ]
    }
   ],
   "source": [
    "params = {\n",
    "    'learning_rate':['invscaling', 'optimal', 'constant'],\n",
    "    'eta0': [0.1, 0.05, 0.01], # since 0.01 had a good result in the previous results \n",
    "    'penalty': ['l2', 'l1', None], # Those penalties are easier to implement if needed\n",
    "    'loss': ['squared_loss'], # Since we are running the MSE loss function for the Custom Implementing\n",
    "    'max_iter':[5000] # Fixed the number of iterations to avoid the long time executions\n",
    "}\n",
    "\n",
    "scoring = {\n",
    "        '-MSE': 'neg_mean_squared_error',\n",
    "        '-MAE': 'neg_mean_absolute_error',\n",
    "        'R2': 'r2'\n",
    "    }\n",
    "\n",
    "# We are using R2 to refit because it gave a better view of the results above when compared with the MSE and MAE\n",
    "regr = GridSearchCV(linear_model.SGDRegressor(), params, cv=5, scoring=scoring, refit='R2', n_jobs=-1, verbose=True)\n",
    "regr.fit(X_train, np.log(y_train))\n"
   ]
  },
  {
   "cell_type": "code",
   "execution_count": null,
   "metadata": {},
   "outputs": [],
   "source": []
  }
 ],
 "metadata": {
  "kernelspec": {
   "display_name": "Python 3",
   "language": "python",
   "name": "python3"
  },
  "language_info": {
   "codemirror_mode": {
    "name": "ipython",
    "version": 3
   },
   "file_extension": ".py",
   "mimetype": "text/x-python",
   "name": "python",
   "nbconvert_exporter": "python",
   "pygments_lexer": "ipython3",
   "version": "3.5.2"
  }
 },
 "nbformat": 4,
 "nbformat_minor": 2
}
