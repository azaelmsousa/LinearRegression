{
 "cells": [
  {
   "cell_type": "code",
   "execution_count": 1,
   "metadata": {},
   "outputs": [
    {
     "name": "stderr",
     "output_type": "stream",
     "text": [
      "/root/.local/lib/python3.5/site-packages/sklearn/ensemble/weight_boosting.py:29: DeprecationWarning: numpy.core.umath_tests is an internal NumPy module and should not be imported. It will be removed in a future NumPy release.\n",
      "  from numpy.core.umath_tests import inner1d\n"
     ]
    }
   ],
   "source": [
    "import numpy as np \n",
    "import pandas as pd \n",
    "from pandas.api.types import CategoricalDtype\n",
    "from sklearn import model_selection, ensemble, metrics, linear_model\n",
    "import matplotlib.pyplot as plt\n",
    "from sklearn.preprocessing import *\n",
    "import os"
   ]
  },
  {
   "cell_type": "code",
   "execution_count": 2,
   "metadata": {},
   "outputs": [
    {
     "name": "stdout",
     "output_type": "stream",
     "text": [
      "['test.pkl', 'diamonds.csv', 'train.pkl']\n"
     ]
    }
   ],
   "source": [
    "base_dir = '../data'\n",
    "print(os.listdir(base_dir))"
   ]
  },
  {
   "cell_type": "code",
   "execution_count": 3,
   "metadata": {},
   "outputs": [
    {
     "data": {
      "text/html": [
       "<div>\n",
       "<style scoped>\n",
       "    .dataframe tbody tr th:only-of-type {\n",
       "        vertical-align: middle;\n",
       "    }\n",
       "\n",
       "    .dataframe tbody tr th {\n",
       "        vertical-align: top;\n",
       "    }\n",
       "\n",
       "    .dataframe thead th {\n",
       "        text-align: right;\n",
       "    }\n",
       "</style>\n",
       "<table border=\"1\" class=\"dataframe\">\n",
       "  <thead>\n",
       "    <tr style=\"text-align: right;\">\n",
       "      <th></th>\n",
       "      <th>carat</th>\n",
       "      <th>cut</th>\n",
       "      <th>color</th>\n",
       "      <th>clarity</th>\n",
       "      <th>depth</th>\n",
       "      <th>table</th>\n",
       "      <th>price</th>\n",
       "      <th>x</th>\n",
       "      <th>y</th>\n",
       "      <th>z</th>\n",
       "    </tr>\n",
       "  </thead>\n",
       "  <tbody>\n",
       "    <tr>\n",
       "      <th>1</th>\n",
       "      <td>0.23</td>\n",
       "      <td>Ideal</td>\n",
       "      <td>E</td>\n",
       "      <td>SI2</td>\n",
       "      <td>61.5</td>\n",
       "      <td>55.0</td>\n",
       "      <td>326</td>\n",
       "      <td>3.95</td>\n",
       "      <td>3.98</td>\n",
       "      <td>2.43</td>\n",
       "    </tr>\n",
       "    <tr>\n",
       "      <th>2</th>\n",
       "      <td>0.21</td>\n",
       "      <td>Premium</td>\n",
       "      <td>E</td>\n",
       "      <td>SI1</td>\n",
       "      <td>59.8</td>\n",
       "      <td>61.0</td>\n",
       "      <td>326</td>\n",
       "      <td>3.89</td>\n",
       "      <td>3.84</td>\n",
       "      <td>2.31</td>\n",
       "    </tr>\n",
       "    <tr>\n",
       "      <th>3</th>\n",
       "      <td>0.23</td>\n",
       "      <td>Good</td>\n",
       "      <td>E</td>\n",
       "      <td>VS1</td>\n",
       "      <td>56.9</td>\n",
       "      <td>65.0</td>\n",
       "      <td>327</td>\n",
       "      <td>4.05</td>\n",
       "      <td>4.07</td>\n",
       "      <td>2.31</td>\n",
       "    </tr>\n",
       "    <tr>\n",
       "      <th>4</th>\n",
       "      <td>0.29</td>\n",
       "      <td>Premium</td>\n",
       "      <td>I</td>\n",
       "      <td>VS2</td>\n",
       "      <td>62.4</td>\n",
       "      <td>58.0</td>\n",
       "      <td>334</td>\n",
       "      <td>4.20</td>\n",
       "      <td>4.23</td>\n",
       "      <td>2.63</td>\n",
       "    </tr>\n",
       "    <tr>\n",
       "      <th>5</th>\n",
       "      <td>0.31</td>\n",
       "      <td>Good</td>\n",
       "      <td>J</td>\n",
       "      <td>SI2</td>\n",
       "      <td>63.3</td>\n",
       "      <td>58.0</td>\n",
       "      <td>335</td>\n",
       "      <td>4.34</td>\n",
       "      <td>4.35</td>\n",
       "      <td>2.75</td>\n",
       "    </tr>\n",
       "    <tr>\n",
       "      <th>6</th>\n",
       "      <td>0.24</td>\n",
       "      <td>Very Good</td>\n",
       "      <td>J</td>\n",
       "      <td>VVS2</td>\n",
       "      <td>62.8</td>\n",
       "      <td>57.0</td>\n",
       "      <td>336</td>\n",
       "      <td>3.94</td>\n",
       "      <td>3.96</td>\n",
       "      <td>2.48</td>\n",
       "    </tr>\n",
       "    <tr>\n",
       "      <th>7</th>\n",
       "      <td>0.24</td>\n",
       "      <td>Very Good</td>\n",
       "      <td>I</td>\n",
       "      <td>VVS1</td>\n",
       "      <td>62.3</td>\n",
       "      <td>57.0</td>\n",
       "      <td>336</td>\n",
       "      <td>3.95</td>\n",
       "      <td>3.98</td>\n",
       "      <td>2.47</td>\n",
       "    </tr>\n",
       "    <tr>\n",
       "      <th>8</th>\n",
       "      <td>0.26</td>\n",
       "      <td>Very Good</td>\n",
       "      <td>H</td>\n",
       "      <td>SI1</td>\n",
       "      <td>61.9</td>\n",
       "      <td>55.0</td>\n",
       "      <td>337</td>\n",
       "      <td>4.07</td>\n",
       "      <td>4.11</td>\n",
       "      <td>2.53</td>\n",
       "    </tr>\n",
       "    <tr>\n",
       "      <th>9</th>\n",
       "      <td>0.22</td>\n",
       "      <td>Fair</td>\n",
       "      <td>E</td>\n",
       "      <td>VS2</td>\n",
       "      <td>65.1</td>\n",
       "      <td>61.0</td>\n",
       "      <td>337</td>\n",
       "      <td>3.87</td>\n",
       "      <td>3.78</td>\n",
       "      <td>2.49</td>\n",
       "    </tr>\n",
       "    <tr>\n",
       "      <th>10</th>\n",
       "      <td>0.23</td>\n",
       "      <td>Very Good</td>\n",
       "      <td>H</td>\n",
       "      <td>VS1</td>\n",
       "      <td>59.4</td>\n",
       "      <td>61.0</td>\n",
       "      <td>338</td>\n",
       "      <td>4.00</td>\n",
       "      <td>4.05</td>\n",
       "      <td>2.39</td>\n",
       "    </tr>\n",
       "  </tbody>\n",
       "</table>\n",
       "</div>"
      ],
      "text/plain": [
       "    carat        cut color clarity  depth  table  price     x     y     z\n",
       "1    0.23      Ideal     E     SI2   61.5   55.0    326  3.95  3.98  2.43\n",
       "2    0.21    Premium     E     SI1   59.8   61.0    326  3.89  3.84  2.31\n",
       "3    0.23       Good     E     VS1   56.9   65.0    327  4.05  4.07  2.31\n",
       "4    0.29    Premium     I     VS2   62.4   58.0    334  4.20  4.23  2.63\n",
       "5    0.31       Good     J     SI2   63.3   58.0    335  4.34  4.35  2.75\n",
       "6    0.24  Very Good     J    VVS2   62.8   57.0    336  3.94  3.96  2.48\n",
       "7    0.24  Very Good     I    VVS1   62.3   57.0    336  3.95  3.98  2.47\n",
       "8    0.26  Very Good     H     SI1   61.9   55.0    337  4.07  4.11  2.53\n",
       "9    0.22       Fair     E     VS2   65.1   61.0    337  3.87  3.78  2.49\n",
       "10   0.23  Very Good     H     VS1   59.4   61.0    338  4.00  4.05  2.39"
      ]
     },
     "execution_count": 3,
     "metadata": {},
     "output_type": "execute_result"
    }
   ],
   "source": [
    "df_diamonds = pd.read_csv('%s/diamonds.csv'%(base_dir), index_col='Unnamed: 0')\n",
    "df_diamonds.fillna(0)\n",
    "df_diamonds.head(10)"
   ]
  },
  {
   "cell_type": "markdown",
   "metadata": {},
   "source": [
    "## Numeric Features \n",
    "* Carat: weight of the diamond\n",
    "* depth: depth %  The height of a diamond, measured from the culet to the table, divided by its average girdle diameter\n",
    "* table: table % The width of the diamond's table expressed as a percentage of its average diameter\n",
    "* price: the price of the diamond\n",
    "* xlength: mm\n",
    "* ywidth: mm\n",
    "* zdepth: mm"
   ]
  },
  {
   "cell_type": "code",
   "execution_count": 4,
   "metadata": {},
   "outputs": [
    {
     "data": {
      "text/html": [
       "<div>\n",
       "<style scoped>\n",
       "    .dataframe tbody tr th:only-of-type {\n",
       "        vertical-align: middle;\n",
       "    }\n",
       "\n",
       "    .dataframe tbody tr th {\n",
       "        vertical-align: top;\n",
       "    }\n",
       "\n",
       "    .dataframe thead th {\n",
       "        text-align: right;\n",
       "    }\n",
       "</style>\n",
       "<table border=\"1\" class=\"dataframe\">\n",
       "  <thead>\n",
       "    <tr style=\"text-align: right;\">\n",
       "      <th></th>\n",
       "      <th>carat</th>\n",
       "      <th>depth</th>\n",
       "      <th>table</th>\n",
       "      <th>price</th>\n",
       "      <th>x</th>\n",
       "      <th>y</th>\n",
       "      <th>z</th>\n",
       "    </tr>\n",
       "  </thead>\n",
       "  <tbody>\n",
       "    <tr>\n",
       "      <th>count</th>\n",
       "      <td>53940.000000</td>\n",
       "      <td>53940.000000</td>\n",
       "      <td>53940.000000</td>\n",
       "      <td>53940.000000</td>\n",
       "      <td>53940.000000</td>\n",
       "      <td>53940.000000</td>\n",
       "      <td>53940.000000</td>\n",
       "    </tr>\n",
       "    <tr>\n",
       "      <th>mean</th>\n",
       "      <td>0.797940</td>\n",
       "      <td>61.749405</td>\n",
       "      <td>57.457184</td>\n",
       "      <td>3932.799722</td>\n",
       "      <td>5.731157</td>\n",
       "      <td>5.734526</td>\n",
       "      <td>3.538734</td>\n",
       "    </tr>\n",
       "    <tr>\n",
       "      <th>std</th>\n",
       "      <td>0.474011</td>\n",
       "      <td>1.432621</td>\n",
       "      <td>2.234491</td>\n",
       "      <td>3989.439738</td>\n",
       "      <td>1.121761</td>\n",
       "      <td>1.142135</td>\n",
       "      <td>0.705699</td>\n",
       "    </tr>\n",
       "    <tr>\n",
       "      <th>min</th>\n",
       "      <td>0.200000</td>\n",
       "      <td>43.000000</td>\n",
       "      <td>43.000000</td>\n",
       "      <td>326.000000</td>\n",
       "      <td>0.000000</td>\n",
       "      <td>0.000000</td>\n",
       "      <td>0.000000</td>\n",
       "    </tr>\n",
       "    <tr>\n",
       "      <th>25%</th>\n",
       "      <td>0.400000</td>\n",
       "      <td>61.000000</td>\n",
       "      <td>56.000000</td>\n",
       "      <td>950.000000</td>\n",
       "      <td>4.710000</td>\n",
       "      <td>4.720000</td>\n",
       "      <td>2.910000</td>\n",
       "    </tr>\n",
       "    <tr>\n",
       "      <th>50%</th>\n",
       "      <td>0.700000</td>\n",
       "      <td>61.800000</td>\n",
       "      <td>57.000000</td>\n",
       "      <td>2401.000000</td>\n",
       "      <td>5.700000</td>\n",
       "      <td>5.710000</td>\n",
       "      <td>3.530000</td>\n",
       "    </tr>\n",
       "    <tr>\n",
       "      <th>75%</th>\n",
       "      <td>1.040000</td>\n",
       "      <td>62.500000</td>\n",
       "      <td>59.000000</td>\n",
       "      <td>5324.250000</td>\n",
       "      <td>6.540000</td>\n",
       "      <td>6.540000</td>\n",
       "      <td>4.040000</td>\n",
       "    </tr>\n",
       "    <tr>\n",
       "      <th>max</th>\n",
       "      <td>5.010000</td>\n",
       "      <td>79.000000</td>\n",
       "      <td>95.000000</td>\n",
       "      <td>18823.000000</td>\n",
       "      <td>10.740000</td>\n",
       "      <td>58.900000</td>\n",
       "      <td>31.800000</td>\n",
       "    </tr>\n",
       "  </tbody>\n",
       "</table>\n",
       "</div>"
      ],
      "text/plain": [
       "              carat         depth         table         price             x  \\\n",
       "count  53940.000000  53940.000000  53940.000000  53940.000000  53940.000000   \n",
       "mean       0.797940     61.749405     57.457184   3932.799722      5.731157   \n",
       "std        0.474011      1.432621      2.234491   3989.439738      1.121761   \n",
       "min        0.200000     43.000000     43.000000    326.000000      0.000000   \n",
       "25%        0.400000     61.000000     56.000000    950.000000      4.710000   \n",
       "50%        0.700000     61.800000     57.000000   2401.000000      5.700000   \n",
       "75%        1.040000     62.500000     59.000000   5324.250000      6.540000   \n",
       "max        5.010000     79.000000     95.000000  18823.000000     10.740000   \n",
       "\n",
       "                  y             z  \n",
       "count  53940.000000  53940.000000  \n",
       "mean       5.734526      3.538734  \n",
       "std        1.142135      0.705699  \n",
       "min        0.000000      0.000000  \n",
       "25%        4.720000      2.910000  \n",
       "50%        5.710000      3.530000  \n",
       "75%        6.540000      4.040000  \n",
       "max       58.900000     31.800000  "
      ]
     },
     "execution_count": 4,
     "metadata": {},
     "output_type": "execute_result"
    }
   ],
   "source": [
    "df_diamonds.describe()"
   ]
  },
  {
   "cell_type": "markdown",
   "metadata": {},
   "source": [
    "## cut \n",
    "Describe cut quality of the diamond. Quality in increasing order Fair, Good, Very Good, Premium, Ideal"
   ]
  },
  {
   "cell_type": "code",
   "execution_count": 5,
   "metadata": {},
   "outputs": [
    {
     "name": "stdout",
     "output_type": "stream",
     "text": [
      "[Ideal, Premium, Good, Very Good, Fair]\n",
      "Categories (5, object): [Fair < Good < Very Good < Premium < Ideal]\n"
     ]
    },
    {
     "data": {
      "text/plain": [
       "count     53940\n",
       "unique        5\n",
       "top       Ideal\n",
       "freq      21551\n",
       "Name: cut, dtype: object"
      ]
     },
     "execution_count": 5,
     "metadata": {},
     "output_type": "execute_result"
    }
   ],
   "source": [
    "cuts_ordered = ['Fair',\n",
    "                'Good',\n",
    "                'Very Good',\n",
    "                'Premium',\n",
    "                'Ideal']\n",
    "df_diamonds['cut'] = df_diamonds['cut'].astype(CategoricalDtype(cuts_ordered, ordered=True))\n",
    "print(df_diamonds['cut'].unique())\n",
    "df_diamonds['cut'].describe()"
   ]
  },
  {
   "cell_type": "markdown",
   "metadata": {},
   "source": [
    "## color\n",
    "mColor of the diamond, with D being the best and J the worst"
   ]
  },
  {
   "cell_type": "code",
   "execution_count": 6,
   "metadata": {},
   "outputs": [
    {
     "name": "stdout",
     "output_type": "stream",
     "text": [
      "[E, I, J, H, F, G, D]\n",
      "Categories (7, object): [J < I < H < G < F < E < D]\n"
     ]
    },
    {
     "data": {
      "text/plain": [
       "count     53940\n",
       "unique        7\n",
       "top           G\n",
       "freq      11292\n",
       "Name: color, dtype: object"
      ]
     },
     "execution_count": 6,
     "metadata": {},
     "output_type": "execute_result"
    }
   ],
   "source": [
    "colors_ordered = [  'J',\n",
    "                    'I',\n",
    "                    'H',\n",
    "                    'G',\n",
    "                    'F',\n",
    "                    'E',\n",
    "                    'D']\n",
    "df_diamonds['color'] = df_diamonds['color'].astype(CategoricalDtype(colors_ordered, ordered=True))\n",
    "print(df_diamonds['color'].unique())\n",
    "df_diamonds['color'].describe()"
   ]
  },
  {
   "cell_type": "markdown",
   "metadata": {},
   "source": [
    "## clarity\n",
    "How obvious inclusions are within the diamond:(in order from best to worst, FL = flawless, I3= level 3 inclusions) FL,IF, VVS1, VVS2, VS1, VS2, SI1, SI2, I1, I2, I3"
   ]
  },
  {
   "cell_type": "code",
   "execution_count": 7,
   "metadata": {},
   "outputs": [
    {
     "name": "stdout",
     "output_type": "stream",
     "text": [
      "[SI2, SI1, VS1, VS2, VVS2, VVS1, I1, IF]\n",
      "Categories (8, object): [VVS2 < VS1 < SI1 < I1 < VS2 < IF < VVS1 < SI2]\n"
     ]
    },
    {
     "data": {
      "text/plain": [
       "count     53940\n",
       "unique        8\n",
       "top         SI1\n",
       "freq      13065\n",
       "Name: clarity, dtype: object"
      ]
     },
     "execution_count": 7,
     "metadata": {},
     "output_type": "execute_result"
    }
   ],
   "source": [
    "clarity_codes = {'I3',\n",
    "'I2',\n",
    "'I1',\n",
    "'SI2',\n",
    "'SI1',\n",
    "'VS2',\n",
    "'VS1',\n",
    "'VVS2',\n",
    "'VVS1',\n",
    "'IF',\n",
    "'FL'}\n",
    "df_diamonds['clarity'] = df_diamonds['clarity'].astype(CategoricalDtype(clarity_codes, ordered=True))\n",
    "print(df_diamonds['clarity'].unique())\n",
    "df_diamonds['clarity'].describe()"
   ]
  },
  {
   "cell_type": "markdown",
   "metadata": {},
   "source": [
    "## Cleaning the Data\n",
    "\n",
    "There are some zero dimensions for the diamonds, since that must be noise or mistype, we are cleaning it."
   ]
  },
  {
   "cell_type": "code",
   "execution_count": 8,
   "metadata": {},
   "outputs": [
    {
     "data": {
      "text/plain": [
       "(34307, 10)"
      ]
     },
     "execution_count": 8,
     "metadata": {},
     "output_type": "execute_result"
    }
   ],
   "source": [
    "from pandas.api.types import is_numeric_dtype\n",
    "\n",
    "df_diamonds = df_diamonds.drop(df_diamonds.loc[df_diamonds.x <= 0].index)\n",
    "df_diamonds = df_diamonds.drop(df_diamonds.loc[df_diamonds.y <= 0].index)\n",
    "df_diamonds = df_diamonds.drop(df_diamonds.loc[df_diamonds.z <= 0].index)\n",
    "df_diamonds = df_diamonds.drop(df_diamonds.loc[df_diamonds.carat <= 0].index)\n",
    "df_diamonds = df_diamonds.drop(df_diamonds.loc[df_diamonds.depth <= 0].index)\n",
    "df_diamonds = df_diamonds.drop(df_diamonds.loc[df_diamonds.table <= 0].index)\n",
    "\n",
    "## Ref: https://gist.github.com/ariffyasri/70f1e9139da770cb8514998124560281\n",
    "def remove_outlier(df):\n",
    "    low = .05\n",
    "    high = .95\n",
    "    quant_df = df.quantile([low, high])\n",
    "    for name in list(df.columns):\n",
    "        if is_numeric_dtype(df[name]):\n",
    "            df = df[(df[name] > quant_df.loc[low, name]) & (df[name] < quant_df.loc[high, name])]\n",
    "    return df\n",
    "\n",
    "df_diamonds = remove_outlier(df_diamonds)\n",
    "df_diamonds.shape"
   ]
  },
  {
   "cell_type": "markdown",
   "metadata": {},
   "source": [
    "## Handcraft features\n",
    "Since the measures for the diamond follow a 3d shape, we are considering here some handcraft features. \n",
    "Volume for the diamond = reflecting its size and weight. \n",
    "Ratio between the X, Y and Z.\n"
   ]
  },
  {
   "cell_type": "code",
   "execution_count": 9,
   "metadata": {},
   "outputs": [
    {
     "data": {
      "text/html": [
       "<div>\n",
       "<style scoped>\n",
       "    .dataframe tbody tr th:only-of-type {\n",
       "        vertical-align: middle;\n",
       "    }\n",
       "\n",
       "    .dataframe tbody tr th {\n",
       "        vertical-align: top;\n",
       "    }\n",
       "\n",
       "    .dataframe thead th {\n",
       "        text-align: right;\n",
       "    }\n",
       "</style>\n",
       "<table border=\"1\" class=\"dataframe\">\n",
       "  <thead>\n",
       "    <tr style=\"text-align: right;\">\n",
       "      <th></th>\n",
       "      <th>carat</th>\n",
       "      <th>cut</th>\n",
       "      <th>color</th>\n",
       "      <th>clarity</th>\n",
       "      <th>depth</th>\n",
       "      <th>table</th>\n",
       "      <th>price</th>\n",
       "      <th>x</th>\n",
       "      <th>y</th>\n",
       "      <th>z</th>\n",
       "      <th>volume</th>\n",
       "      <th>ratio_xy</th>\n",
       "      <th>ratio_xz</th>\n",
       "    </tr>\n",
       "  </thead>\n",
       "  <tbody>\n",
       "    <tr>\n",
       "      <th>61</th>\n",
       "      <td>0.35</td>\n",
       "      <td>Ideal</td>\n",
       "      <td>I</td>\n",
       "      <td>VS1</td>\n",
       "      <td>60.9</td>\n",
       "      <td>57.0</td>\n",
       "      <td>552</td>\n",
       "      <td>4.54</td>\n",
       "      <td>4.59</td>\n",
       "      <td>2.78</td>\n",
       "      <td>57.931308</td>\n",
       "      <td>0.989107</td>\n",
       "      <td>1.633094</td>\n",
       "    </tr>\n",
       "    <tr>\n",
       "      <th>65</th>\n",
       "      <td>0.42</td>\n",
       "      <td>Premium</td>\n",
       "      <td>I</td>\n",
       "      <td>SI2</td>\n",
       "      <td>61.5</td>\n",
       "      <td>59.0</td>\n",
       "      <td>552</td>\n",
       "      <td>4.78</td>\n",
       "      <td>4.84</td>\n",
       "      <td>2.96</td>\n",
       "      <td>68.480192</td>\n",
       "      <td>0.987603</td>\n",
       "      <td>1.614865</td>\n",
       "    </tr>\n",
       "    <tr>\n",
       "      <th>67</th>\n",
       "      <td>0.32</td>\n",
       "      <td>Ideal</td>\n",
       "      <td>I</td>\n",
       "      <td>VVS1</td>\n",
       "      <td>62.0</td>\n",
       "      <td>55.3</td>\n",
       "      <td>553</td>\n",
       "      <td>4.39</td>\n",
       "      <td>4.42</td>\n",
       "      <td>2.73</td>\n",
       "      <td>52.972374</td>\n",
       "      <td>0.993213</td>\n",
       "      <td>1.608059</td>\n",
       "    </tr>\n",
       "    <tr>\n",
       "      <th>69</th>\n",
       "      <td>0.31</td>\n",
       "      <td>Premium</td>\n",
       "      <td>G</td>\n",
       "      <td>SI1</td>\n",
       "      <td>61.8</td>\n",
       "      <td>58.0</td>\n",
       "      <td>553</td>\n",
       "      <td>4.35</td>\n",
       "      <td>4.32</td>\n",
       "      <td>2.68</td>\n",
       "      <td>50.362560</td>\n",
       "      <td>1.006944</td>\n",
       "      <td>1.623134</td>\n",
       "    </tr>\n",
       "    <tr>\n",
       "      <th>84</th>\n",
       "      <td>0.38</td>\n",
       "      <td>Ideal</td>\n",
       "      <td>I</td>\n",
       "      <td>SI2</td>\n",
       "      <td>61.6</td>\n",
       "      <td>56.0</td>\n",
       "      <td>554</td>\n",
       "      <td>4.65</td>\n",
       "      <td>4.67</td>\n",
       "      <td>2.87</td>\n",
       "      <td>62.323485</td>\n",
       "      <td>0.995717</td>\n",
       "      <td>1.620209</td>\n",
       "    </tr>\n",
       "    <tr>\n",
       "      <th>90</th>\n",
       "      <td>0.32</td>\n",
       "      <td>Premium</td>\n",
       "      <td>I</td>\n",
       "      <td>SI1</td>\n",
       "      <td>62.9</td>\n",
       "      <td>58.0</td>\n",
       "      <td>554</td>\n",
       "      <td>4.35</td>\n",
       "      <td>4.33</td>\n",
       "      <td>2.73</td>\n",
       "      <td>51.420915</td>\n",
       "      <td>1.004619</td>\n",
       "      <td>1.593407</td>\n",
       "    </tr>\n",
       "    <tr>\n",
       "      <th>91</th>\n",
       "      <td>0.70</td>\n",
       "      <td>Ideal</td>\n",
       "      <td>E</td>\n",
       "      <td>SI1</td>\n",
       "      <td>62.5</td>\n",
       "      <td>57.0</td>\n",
       "      <td>2757</td>\n",
       "      <td>5.70</td>\n",
       "      <td>5.72</td>\n",
       "      <td>3.57</td>\n",
       "      <td>116.396280</td>\n",
       "      <td>0.996503</td>\n",
       "      <td>1.596639</td>\n",
       "    </tr>\n",
       "    <tr>\n",
       "      <th>93</th>\n",
       "      <td>0.70</td>\n",
       "      <td>Ideal</td>\n",
       "      <td>G</td>\n",
       "      <td>VS2</td>\n",
       "      <td>61.6</td>\n",
       "      <td>56.0</td>\n",
       "      <td>2757</td>\n",
       "      <td>5.70</td>\n",
       "      <td>5.67</td>\n",
       "      <td>3.50</td>\n",
       "      <td>113.116500</td>\n",
       "      <td>1.005291</td>\n",
       "      <td>1.628571</td>\n",
       "    </tr>\n",
       "    <tr>\n",
       "      <th>94</th>\n",
       "      <td>0.71</td>\n",
       "      <td>Very Good</td>\n",
       "      <td>E</td>\n",
       "      <td>VS2</td>\n",
       "      <td>62.4</td>\n",
       "      <td>57.0</td>\n",
       "      <td>2759</td>\n",
       "      <td>5.68</td>\n",
       "      <td>5.73</td>\n",
       "      <td>3.56</td>\n",
       "      <td>115.865184</td>\n",
       "      <td>0.991274</td>\n",
       "      <td>1.595506</td>\n",
       "    </tr>\n",
       "    <tr>\n",
       "      <th>99</th>\n",
       "      <td>0.73</td>\n",
       "      <td>Very Good</td>\n",
       "      <td>E</td>\n",
       "      <td>SI1</td>\n",
       "      <td>61.6</td>\n",
       "      <td>59.0</td>\n",
       "      <td>2760</td>\n",
       "      <td>5.77</td>\n",
       "      <td>5.78</td>\n",
       "      <td>3.56</td>\n",
       "      <td>118.728136</td>\n",
       "      <td>0.998270</td>\n",
       "      <td>1.620787</td>\n",
       "    </tr>\n",
       "  </tbody>\n",
       "</table>\n",
       "</div>"
      ],
      "text/plain": [
       "    carat        cut color clarity  depth  table  price     x     y     z  \\\n",
       "61   0.35      Ideal     I     VS1   60.9   57.0    552  4.54  4.59  2.78   \n",
       "65   0.42    Premium     I     SI2   61.5   59.0    552  4.78  4.84  2.96   \n",
       "67   0.32      Ideal     I    VVS1   62.0   55.3    553  4.39  4.42  2.73   \n",
       "69   0.31    Premium     G     SI1   61.8   58.0    553  4.35  4.32  2.68   \n",
       "84   0.38      Ideal     I     SI2   61.6   56.0    554  4.65  4.67  2.87   \n",
       "90   0.32    Premium     I     SI1   62.9   58.0    554  4.35  4.33  2.73   \n",
       "91   0.70      Ideal     E     SI1   62.5   57.0   2757  5.70  5.72  3.57   \n",
       "93   0.70      Ideal     G     VS2   61.6   56.0   2757  5.70  5.67  3.50   \n",
       "94   0.71  Very Good     E     VS2   62.4   57.0   2759  5.68  5.73  3.56   \n",
       "99   0.73  Very Good     E     SI1   61.6   59.0   2760  5.77  5.78  3.56   \n",
       "\n",
       "        volume  ratio_xy  ratio_xz  \n",
       "61   57.931308  0.989107  1.633094  \n",
       "65   68.480192  0.987603  1.614865  \n",
       "67   52.972374  0.993213  1.608059  \n",
       "69   50.362560  1.006944  1.623134  \n",
       "84   62.323485  0.995717  1.620209  \n",
       "90   51.420915  1.004619  1.593407  \n",
       "91  116.396280  0.996503  1.596639  \n",
       "93  113.116500  1.005291  1.628571  \n",
       "94  115.865184  0.991274  1.595506  \n",
       "99  118.728136  0.998270  1.620787  "
      ]
     },
     "execution_count": 9,
     "metadata": {},
     "output_type": "execute_result"
    }
   ],
   "source": [
    "df_diamonds['volume'] = df_diamonds['x'] * df_diamonds['y'] * df_diamonds['z']\n",
    "df_diamonds['ratio_xy'] = df_diamonds['x'] / df_diamonds['y']\n",
    "df_diamonds['ratio_xz'] = df_diamonds['x'] / df_diamonds['z']\n",
    "df_diamonds.head(10)"
   ]
  },
  {
   "cell_type": "code",
   "execution_count": 10,
   "metadata": {},
   "outputs": [],
   "source": [
    "cat_columns = df_diamonds.select_dtypes(['category']).columns.values\n",
    "df_diamonds[cat_columns] = df_diamonds[cat_columns].apply(lambda x: x.cat.codes)"
   ]
  },
  {
   "cell_type": "code",
   "execution_count": 11,
   "metadata": {},
   "outputs": [
    {
     "data": {
      "text/plain": [
       "<matplotlib.axes._subplots.AxesSubplot at 0x7f27367de940>"
      ]
     },
     "execution_count": 11,
     "metadata": {},
     "output_type": "execute_result"
    },
    {
     "data": {
      "image/png": "[encoded data removed]",
      "text/plain": [
       "<Figure size 432x288 with 1 Axes>"
      ]
     },
     "metadata": {
      "needs_background": "light"
     },
     "output_type": "display_data"
    }
   ],
   "source": [
    "df_diamonds.price.hist()"
   ]
  },
  {
   "cell_type": "code",
   "execution_count": 12,
   "metadata": {},
   "outputs": [
    {
     "data": {
      "text/plain": [
       "count    34307.000000\n",
       "mean      3485.161949\n",
       "std       2856.174014\n",
       "min        545.000000\n",
       "25%       1103.000000\n",
       "50%       2499.000000\n",
       "75%       5031.000000\n",
       "max      13096.000000\n",
       "Name: price, dtype: float64"
      ]
     },
     "execution_count": 12,
     "metadata": {},
     "output_type": "execute_result"
    }
   ],
   "source": [
    "df_diamonds.price.describe()"
   ]
  },
  {
   "cell_type": "code",
   "execution_count": 13,
   "metadata": {},
   "outputs": [],
   "source": [
    "train, test_reserved = model_selection.train_test_split(df_diamonds, test_size=0.2, random_state=42)\n",
    "test_reserved.to_pickle(\"%s/test.pkl\"%(base_dir))\n",
    "train.to_pickle(\"%s/train.pkl\"%(base_dir))"
   ]
  },
  {
   "cell_type": "code",
   "execution_count": 14,
   "metadata": {},
   "outputs": [],
   "source": [
    "t = pd.read_pickle(\"%s/train.pkl\"%(base_dir))"
   ]
  },
  {
   "cell_type": "code",
   "execution_count": 15,
   "metadata": {
    "scrolled": true
   },
   "outputs": [
    {
     "data": {
      "text/plain": [
       "carat       float64\n",
       "cut            int8\n",
       "color          int8\n",
       "clarity        int8\n",
       "depth       float64\n",
       "table       float64\n",
       "price         int64\n",
       "x           float64\n",
       "y           float64\n",
       "z           float64\n",
       "volume      float64\n",
       "ratio_xy    float64\n",
       "ratio_xz    float64\n",
       "dtype: object"
      ]
     },
     "execution_count": 15,
     "metadata": {},
     "output_type": "execute_result"
    }
   ],
   "source": [
    "t.dtypes"
   ]
  },
  {
   "cell_type": "code",
   "execution_count": null,
   "metadata": {},
   "outputs": [],
   "source": []
  }
 ],
 "metadata": {
  "kernelspec": {
   "display_name": "Python 3",
   "language": "python",
   "name": "python3"
  },
  "language_info": {
   "codemirror_mode": {
    "name": "ipython",
    "version": 3
   },
   "file_extension": ".py",
   "mimetype": "text/x-python",
   "name": "python",
   "nbconvert_exporter": "python",
   "pygments_lexer": "ipython3",
   "version": "3.5.2"
  }
 },
 "nbformat": 4,
 "nbformat_minor": 2
}
