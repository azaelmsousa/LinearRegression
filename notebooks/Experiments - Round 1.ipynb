{
 "cells": [
  {
   "cell_type": "code",
   "execution_count": 1,
   "metadata": {},
   "outputs": [
    {
     "name": "stderr",
     "output_type": "stream",
     "text": [
      "/root/.local/lib/python3.5/site-packages/sklearn/ensemble/weight_boosting.py:29: DeprecationWarning: numpy.core.umath_tests is an internal NumPy module and should not be imported. It will be removed in a future NumPy release.\n",
      "  from numpy.core.umath_tests import inner1d\n"
     ]
    }
   ],
   "source": [
    "import sys\n",
    "import sys\n",
    "sys.path\n",
    "sys.path.append('../')\n",
    "\n",
    "import numpy as np\n",
    "from diamonds import experiments, normal_equation\n",
    "\n",
    "import warnings\n",
    "warnings.filterwarnings(\"ignore\", category=DeprecationWarning) \n",
    "scoring = {\n",
    "    \t'Negative MSE': 'neg_mean_squared_error',\n",
    "    \t'Negative MAE': 'neg_mean_absolute_error',\n",
    "    \t'R2': 'r2'\n",
    "\t}\n",
    "\n",
    "syntect_features = ['volume', 'ratio_xy', 'ratio_xz']\n",
    "val_size = .001"
   ]
  },
  {
   "cell_type": "code",
   "execution_count": 2,
   "metadata": {},
   "outputs": [],
   "source": [
    "regr = None"
   ]
  },
  {
   "cell_type": "markdown",
   "metadata": {},
   "source": [
    "## Raw Features"
   ]
  },
  {
   "cell_type": "code",
   "execution_count": 3,
   "metadata": {},
   "outputs": [],
   "source": [
    "X = experiments.load_train_data()\n",
    "X.drop(['x','y','z'], axis=1, inplace= True)\n",
    "folds, (X_train, X_test, y_train, y_test) = experiments.gen_splits(X, scale=False, \n",
    "                                                             exclude_features=syntect_features)"
   ]
  },
  {
   "cell_type": "markdown",
   "metadata": {},
   "source": [
    "### Absolute Price"
   ]
  },
  {
   "cell_type": "code",
   "execution_count": 4,
   "metadata": {},
   "outputs": [
    {
     "name": "stdout",
     "output_type": "stream",
     "text": [
      "Evaluating 0\n",
      "Evaluating 1\n",
      "Evaluating 2\n",
      "Evaluating 3\n",
      "Evaluating 4\n",
      "RMSE: \t 1444.6511 +/- 17.1413\n",
      "MSE:  \t 2087310.7174 +/- 49499.9736\n",
      "MAE:  \t 964.9936 +/- 7.4657\n",
      "R2:   \t 0.8688 +/- 0.0045\n"
     ]
    }
   ],
   "source": [
    "experiments.kfold_evaluate(regr, folds, scoring)"
   ]
  },
  {
   "cell_type": "markdown",
   "metadata": {},
   "source": [
    "## Scaled Features"
   ]
  },
  {
   "cell_type": "code",
   "execution_count": 5,
   "metadata": {},
   "outputs": [],
   "source": [
    "X = experiments.load_train_data()\n",
    "folds, (X_train, X_test, y_train, y_test) = experiments.gen_splits(X, scale=True, \n",
    "                                                             exclude_features=syntect_features)"
   ]
  },
  {
   "cell_type": "markdown",
   "metadata": {},
   "source": [
    "### Absolute Price"
   ]
  },
  {
   "cell_type": "code",
   "execution_count": 6,
   "metadata": {
    "scrolled": false
   },
   "outputs": [
    {
     "name": "stdout",
     "output_type": "stream",
     "text": [
      "Evaluating 0\n",
      "Evaluating 1\n",
      "Evaluating 2\n",
      "Evaluating 3\n",
      "Evaluating 4\n",
      "RMSE: \t 1417.7312 +/- 23.4326\n",
      "MSE:  \t 2010510.9267 +/- 66300.4645\n",
      "MAE:  \t 868.4692 +/- 9.0350\n",
      "R2:   \t 0.8736 +/- 0.0053\n"
     ]
    }
   ],
   "source": [
    "experiments.kfold_evaluate(regr, folds, scoring)"
   ]
  },
  {
   "cell_type": "markdown",
   "metadata": {},
   "source": [
    "### Log(price)"
   ]
  },
  {
   "cell_type": "code",
   "execution_count": 7,
   "metadata": {
    "scrolled": false
   },
   "outputs": [
    {
     "name": "stdout",
     "output_type": "stream",
     "text": [
      "Evaluating 0\n",
      "Evaluating 1\n",
      "Evaluating 2\n",
      "Evaluating 3\n",
      "Evaluating 4\n",
      "RMSE: \t 293599329118.4932 +/- 587198643541.9725\n",
      "MSE:  \t 431002813036361653682176.0000 +/- 862005626072723038928896.0000\n",
      "MAE:  \t 3232422961.8935 +/- 6464844297.0585\n",
      "R2:   \t -27235988973034944.0000 +/- 54471977946069864.0000\n"
     ]
    }
   ],
   "source": [
    "experiments.kfold_evaluate(regr, folds, scoring, log_y=True)"
   ]
  },
  {
   "cell_type": "markdown",
   "metadata": {},
   "source": [
    "## Adding syntect features ['volume', 'ratio_xy']"
   ]
  },
  {
   "cell_type": "code",
   "execution_count": 8,
   "metadata": {},
   "outputs": [],
   "source": [
    "X = experiments.load_train_data()\n",
    "folds, (X_train, X_test, y_train, y_test) = experiments.gen_splits(X, scale=True, \n",
    "                                                             exclude_features=['ratio_xz'])"
   ]
  },
  {
   "cell_type": "markdown",
   "metadata": {},
   "source": [
    "### Absolute Price"
   ]
  },
  {
   "cell_type": "code",
   "execution_count": 9,
   "metadata": {
    "scrolled": false
   },
   "outputs": [
    {
     "name": "stdout",
     "output_type": "stream",
     "text": [
      "Evaluating 0\n",
      "Evaluating 1\n",
      "Evaluating 2\n",
      "Evaluating 3\n",
      "Evaluating 4\n",
      "RMSE: \t 1528.3847 +/- 193.7969\n",
      "MSE:  \t 2373516.9479 +/- 641819.0411\n",
      "MAE:  \t 868.6150 +/- 9.5243\n",
      "R2:   \t 0.8504 +/- 0.0422\n"
     ]
    }
   ],
   "source": [
    "experiments.kfold_evaluate(regr, folds, scoring)"
   ]
  },
  {
   "cell_type": "markdown",
   "metadata": {},
   "source": [
    "### Log(price)"
   ]
  },
  {
   "cell_type": "code",
   "execution_count": 10,
   "metadata": {
    "scrolled": false
   },
   "outputs": [
    {
     "name": "stdout",
     "output_type": "stream",
     "text": [
      "Evaluating 0\n",
      "Evaluating 1\n",
      "Evaluating 2\n",
      "Evaluating 3\n",
      "Evaluating 4\n",
      "RMSE: \t 72038013.5712 +/- 96161543.0537\n",
      "MSE:  \t 14436517761757194.0000 +/- 22415093049502736.0000\n",
      "MAE:  \t 793830.5801 +/- 1058722.5204\n",
      "R2:   \t -911236224.4648 +/- 1416465145.7992\n"
     ]
    }
   ],
   "source": [
    "experiments.kfold_evaluate(regr, folds, scoring, log_y=True)"
   ]
  },
  {
   "cell_type": "code",
   "execution_count": null,
   "metadata": {},
   "outputs": [],
   "source": []
  },
  {
   "cell_type": "markdown",
   "metadata": {},
   "source": [
    "## Adding syntect features ['volume', 'ratio_xz']"
   ]
  },
  {
   "cell_type": "code",
   "execution_count": 11,
   "metadata": {},
   "outputs": [],
   "source": [
    "X = experiments.load_train_data()\n",
    "folds, (X_train, X_test, y_train, y_test) = experiments.gen_splits(X, scale=True, \n",
    "                                                             exclude_features=['ratio_xy'])"
   ]
  },
  {
   "cell_type": "markdown",
   "metadata": {},
   "source": [
    "### Absolute Price"
   ]
  },
  {
   "cell_type": "code",
   "execution_count": 12,
   "metadata": {
    "scrolled": false
   },
   "outputs": [
    {
     "name": "stdout",
     "output_type": "stream",
     "text": [
      "Evaluating 0\n",
      "Evaluating 1\n",
      "Evaluating 2\n",
      "Evaluating 3\n",
      "Evaluating 4\n",
      "RMSE: \t 1579.5384 +/- 217.8645\n",
      "MSE:  \t 2542406.3594 +/- 707376.8360\n",
      "MAE:  \t 869.8802 +/- 10.2119\n",
      "R2:   \t 0.8398 +/- 0.0461\n"
     ]
    }
   ],
   "source": [
    "experiments.kfold_evaluate(regr, folds, scoring)"
   ]
  },
  {
   "cell_type": "markdown",
   "metadata": {},
   "source": [
    "### Log(price)"
   ]
  },
  {
   "cell_type": "code",
   "execution_count": 13,
   "metadata": {
    "scrolled": false
   },
   "outputs": [
    {
     "name": "stdout",
     "output_type": "stream",
     "text": [
      "Evaluating 0\n",
      "Evaluating 1\n",
      "Evaluating 2\n",
      "Evaluating 3\n",
      "Evaluating 4\n",
      "RMSE: \t 167037225799284.6875 +/- 334074446257840.0000\n",
      "MSE:  \t 139507170445203656630513696768.0000 +/- 279014340890407242892283215872.0000\n",
      "MAE:  \t 1839019331027.4485 +/- 3678038601853.6396\n",
      "R2:   \t -8815756280422044008448.0000 +/- 17631512560844083822592.0000\n"
     ]
    }
   ],
   "source": [
    "experiments.kfold_evaluate(regr, folds, scoring, log_y=True)"
   ]
  },
  {
   "cell_type": "markdown",
   "metadata": {},
   "source": [
    "## Adding syntect features ['volume']"
   ]
  },
  {
   "cell_type": "code",
   "execution_count": 14,
   "metadata": {},
   "outputs": [],
   "source": [
    "X = experiments.load_train_data()\n",
    "folds, (X_train, X_test, y_train, y_test) = experiments.gen_splits(X, scale=True, \n",
    "                                                             exclude_features=['ratio_xy', 'ratio_xz'])"
   ]
  },
  {
   "cell_type": "markdown",
   "metadata": {},
   "source": [
    "### Absolute Price"
   ]
  },
  {
   "cell_type": "code",
   "execution_count": 15,
   "metadata": {
    "scrolled": false
   },
   "outputs": [
    {
     "name": "stdout",
     "output_type": "stream",
     "text": [
      "Evaluating 0\n",
      "Evaluating 1\n",
      "Evaluating 2\n",
      "Evaluating 3\n",
      "Evaluating 4\n",
      "RMSE: \t 1502.4225 +/- 184.1003\n",
      "MSE:  \t 2291166.1784 +/- 602720.6239\n",
      "MAE:  \t 868.1149 +/- 9.7024\n",
      "R2:   \t 0.8557 +/- 0.0396\n"
     ]
    }
   ],
   "source": [
    "experiments.kfold_evaluate(regr, folds, scoring)"
   ]
  },
  {
   "cell_type": "markdown",
   "metadata": {},
   "source": [
    "### Log(price)"
   ]
  },
  {
   "cell_type": "code",
   "execution_count": 16,
   "metadata": {
    "scrolled": false
   },
   "outputs": [
    {
     "name": "stdout",
     "output_type": "stream",
     "text": [
      "Evaluating 0\n",
      "Evaluating 1\n",
      "Evaluating 2\n",
      "Evaluating 3\n",
      "Evaluating 4\n",
      "RMSE: \t 282512845.6596 +/- 559328429.1145\n",
      "MSE:  \t 392661799578334336.0000 +/- 785258330838013952.0000\n",
      "MAE:  \t 3111069.6386 +/- 6158010.6689\n",
      "R2:   \t -24813128909.8339 +/- 49622157057.0079\n"
     ]
    }
   ],
   "source": [
    "experiments.kfold_evaluate(regr, folds, scoring, log_y=True)"
   ]
  },
  {
   "cell_type": "markdown",
   "metadata": {},
   "source": [
    "## Adding syntect features ['ratio_xy', 'ratio_xz']"
   ]
  },
  {
   "cell_type": "code",
   "execution_count": 17,
   "metadata": {},
   "outputs": [],
   "source": [
    "X = experiments.load_train_data()\n",
    "folds, (X_train, X_test, y_train, y_test) = experiments.gen_splits(X, scale=True, \n",
    "                                                             exclude_features=['volume'])"
   ]
  },
  {
   "cell_type": "markdown",
   "metadata": {},
   "source": [
    "### Absolute Price"
   ]
  },
  {
   "cell_type": "code",
   "execution_count": 18,
   "metadata": {
    "scrolled": false
   },
   "outputs": [
    {
     "name": "stdout",
     "output_type": "stream",
     "text": [
      "Evaluating 0\n",
      "Evaluating 1\n",
      "Evaluating 2\n",
      "Evaluating 3\n",
      "Evaluating 4\n",
      "RMSE: \t 1560.2081 +/- 309.6887\n",
      "MSE:  \t 2530156.3869 +/- 1109473.5245\n",
      "MAE:  \t 873.9398 +/- 9.4885\n",
      "R2:   \t 0.8408 +/- 0.0705\n"
     ]
    }
   ],
   "source": [
    "experiments.kfold_evaluate(regr, folds, scoring)"
   ]
  },
  {
   "cell_type": "markdown",
   "metadata": {},
   "source": [
    "### Log(price)"
   ]
  },
  {
   "cell_type": "code",
   "execution_count": 19,
   "metadata": {
    "scrolled": false
   },
   "outputs": [
    {
     "name": "stdout",
     "output_type": "stream",
     "text": [
      "Evaluating 0\n",
      "Evaluating 1\n",
      "Evaluating 2\n",
      "Evaluating 3\n",
      "Evaluating 4\n",
      "RMSE: \t 6861612082850727.0000 +/- 13723224165698638.0000\n",
      "MSE:  \t 235408601877538195302527052808192.0000 +/- 470817203755076462662648143544320.0000\n",
      "MAE:  \t 75543862736432.1250 +/- 151087725471413.0000\n",
      "R2:   \t -14875972710538407284047872.0000 +/- 29751945421076810273128448.0000\n"
     ]
    }
   ],
   "source": [
    "experiments.kfold_evaluate(regr, folds, scoring, log_y=True)"
   ]
  },
  {
   "cell_type": "code",
   "execution_count": null,
   "metadata": {},
   "outputs": [],
   "source": []
  },
  {
   "cell_type": "markdown",
   "metadata": {},
   "source": [
    "## Adding syntect features ['ratio_xy']"
   ]
  },
  {
   "cell_type": "code",
   "execution_count": 20,
   "metadata": {},
   "outputs": [],
   "source": [
    "X = experiments.load_train_data()\n",
    "folds, (X_train, X_test, y_train, y_test) = experiments.gen_splits(X, scale=True, \n",
    "                                                             exclude_features=['volume', 'ratio_xz'])"
   ]
  },
  {
   "cell_type": "markdown",
   "metadata": {},
   "source": [
    "### Absolute Price"
   ]
  },
  {
   "cell_type": "code",
   "execution_count": 21,
   "metadata": {
    "scrolled": false
   },
   "outputs": [
    {
     "name": "stdout",
     "output_type": "stream",
     "text": [
      "Evaluating 0\n",
      "Evaluating 1\n",
      "Evaluating 2\n",
      "Evaluating 3\n",
      "Evaluating 4\n",
      "RMSE: \t 1432.3721 +/- 55.5876\n",
      "MSE:  \t 2054779.8954 +/- 163097.8330\n",
      "MAE:  \t 872.0170 +/- 8.0247\n",
      "R2:   \t 0.8708 +/- 0.0109\n"
     ]
    }
   ],
   "source": [
    "experiments.kfold_evaluate(regr, folds, scoring)"
   ]
  },
  {
   "cell_type": "markdown",
   "metadata": {},
   "source": [
    "### Log(price)"
   ]
  },
  {
   "cell_type": "code",
   "execution_count": 22,
   "metadata": {
    "scrolled": false
   },
   "outputs": [
    {
     "name": "stdout",
     "output_type": "stream",
     "text": [
      "Evaluating 0\n",
      "Evaluating 1\n",
      "Evaluating 2\n",
      "Evaluating 3\n",
      "Evaluating 4\n",
      "RMSE: \t 322523726.3839 +/- 645044636.3059\n",
      "MSE:  \t 520104136907490944.0000 +/- 1040208273811011968.0000\n",
      "MAE:  \t 3551582.6698 +/- 7101714.3763\n",
      "R2:   \t -32866492070.9367 +/- 65732984143.6242\n"
     ]
    }
   ],
   "source": [
    "experiments.kfold_evaluate(regr, folds, scoring, log_y=True)"
   ]
  },
  {
   "cell_type": "code",
   "execution_count": null,
   "metadata": {},
   "outputs": [],
   "source": []
  },
  {
   "cell_type": "markdown",
   "metadata": {},
   "source": [
    "## Adding syntect features ['ratio_xz']"
   ]
  },
  {
   "cell_type": "code",
   "execution_count": null,
   "metadata": {},
   "outputs": [],
   "source": []
  },
  {
   "cell_type": "code",
   "execution_count": 23,
   "metadata": {},
   "outputs": [],
   "source": [
    "X = experiments.load_train_data()\n",
    "folds, (X_train, X_test, y_train, y_test) = experiments.gen_splits(X, scale=True, \n",
    "                                                             exclude_features=['volume', 'ratio_xy'])"
   ]
  },
  {
   "cell_type": "markdown",
   "metadata": {},
   "source": [
    "### Absolute Price"
   ]
  },
  {
   "cell_type": "code",
   "execution_count": 24,
   "metadata": {
    "scrolled": false
   },
   "outputs": [
    {
     "name": "stdout",
     "output_type": "stream",
     "text": [
      "Evaluating 0\n",
      "Evaluating 1\n",
      "Evaluating 2\n",
      "Evaluating 3\n",
      "Evaluating 4\n",
      "RMSE: \t 1492.2752 +/- 164.0992\n",
      "MSE:  \t 2253813.8692 +/- 528987.0457\n",
      "MAE:  \t 870.1898 +/- 9.4169\n",
      "R2:   \t 0.8582 +/- 0.0339\n"
     ]
    }
   ],
   "source": [
    "experiments.kfold_evaluate(regr, folds, scoring)"
   ]
  },
  {
   "cell_type": "markdown",
   "metadata": {},
   "source": [
    "### Log(price)"
   ]
  },
  {
   "cell_type": "code",
   "execution_count": 25,
   "metadata": {
    "scrolled": false
   },
   "outputs": [
    {
     "name": "stdout",
     "output_type": "stream",
     "text": [
      "Evaluating 0\n",
      "Evaluating 1\n",
      "Evaluating 2\n",
      "Evaluating 3\n",
      "Evaluating 4\n",
      "RMSE: \t 40026523581998342144.0000 +/- 80053047163996667904.0000\n",
      "MSE:  \t 8010612950301342829103993823350442950656.0000 +/- 16021225900602685658207987646700885901312.0000\n",
      "MAE:  \t 440677521077560192.0000 +/- 881355042155118848.0000\n",
      "R2:   \t -506207754062272763436054429564928.0000 +/- 1012415508124545526872108859129856.0000\n"
     ]
    }
   ],
   "source": [
    "experiments.kfold_evaluate(regr, folds, scoring, log_y=True)"
   ]
  },
  {
   "cell_type": "markdown",
   "metadata": {},
   "source": [
    "## Adding syntect features ['volume', 'ratio_xy']"
   ]
  },
  {
   "cell_type": "code",
   "execution_count": 26,
   "metadata": {},
   "outputs": [],
   "source": [
    "X = experiments.load_train_data()\n",
    "folds, (X_train, X_test, y_train, y_test) = experiments.gen_splits(X, scale=True, \n",
    "                                                             exclude_features=['ratio_xz'])"
   ]
  },
  {
   "cell_type": "markdown",
   "metadata": {},
   "source": [
    "### Absolute Price"
   ]
  },
  {
   "cell_type": "code",
   "execution_count": 27,
   "metadata": {
    "scrolled": false
   },
   "outputs": [
    {
     "name": "stdout",
     "output_type": "stream",
     "text": [
      "Evaluating 0\n",
      "Evaluating 1\n",
      "Evaluating 2\n",
      "Evaluating 3\n",
      "Evaluating 4\n",
      "RMSE: \t 1528.3847 +/- 193.7969\n",
      "MSE:  \t 2373516.9479 +/- 641819.0411\n",
      "MAE:  \t 868.6150 +/- 9.5243\n",
      "R2:   \t 0.8504 +/- 0.0422\n"
     ]
    }
   ],
   "source": [
    "experiments.kfold_evaluate(regr, folds, scoring)"
   ]
  },
  {
   "cell_type": "markdown",
   "metadata": {},
   "source": [
    "### Log(price)"
   ]
  },
  {
   "cell_type": "code",
   "execution_count": 28,
   "metadata": {
    "scrolled": true
   },
   "outputs": [
    {
     "name": "stdout",
     "output_type": "stream",
     "text": [
      "Evaluating 0\n",
      "Evaluating 1\n",
      "Evaluating 2\n",
      "Evaluating 3\n",
      "Evaluating 4\n",
      "RMSE: \t 72038013.5712 +/- 96161543.0537\n",
      "MSE:  \t 14436517761757194.0000 +/- 22415093049502736.0000\n",
      "MAE:  \t 793830.5801 +/- 1058722.5204\n",
      "R2:   \t -911236224.4648 +/- 1416465145.7992\n"
     ]
    }
   ],
   "source": [
    "experiments.kfold_evaluate(regr, folds, scoring, log_y=True)"
   ]
  },
  {
   "cell_type": "code",
   "execution_count": null,
   "metadata": {},
   "outputs": [],
   "source": []
  },
  {
   "cell_type": "markdown",
   "metadata": {},
   "source": [
    "## Adding syntect features ['volume', 'ratio_xy', 'ratio_xz']"
   ]
  },
  {
   "cell_type": "code",
   "execution_count": 29,
   "metadata": {},
   "outputs": [],
   "source": [
    "X = experiments.load_train_data()\n",
    "folds, (X_train, X_test, y_train, y_test) = experiments.gen_splits(X, scale=True, \n",
    "                                                             exclude_features=[])"
   ]
  },
  {
   "cell_type": "markdown",
   "metadata": {},
   "source": [
    "### Absolute Price"
   ]
  },
  {
   "cell_type": "code",
   "execution_count": 30,
   "metadata": {
    "scrolled": false
   },
   "outputs": [
    {
     "name": "stdout",
     "output_type": "stream",
     "text": [
      "Evaluating 0\n",
      "Evaluating 1\n",
      "Evaluating 2\n",
      "Evaluating 3\n",
      "Evaluating 4\n",
      "RMSE: \t 1630.9144 +/- 272.9109\n",
      "MSE:  \t 2734362.1063 +/- 921683.9067\n",
      "MAE:  \t 870.5300 +/- 10.5257\n",
      "R2:   \t 0.8276 +/- 0.0596\n"
     ]
    }
   ],
   "source": [
    "experiments.kfold_evaluate(regr, folds, scoring)"
   ]
  },
  {
   "cell_type": "markdown",
   "metadata": {},
   "source": [
    "### Log(price)"
   ]
  },
  {
   "cell_type": "code",
   "execution_count": 31,
   "metadata": {
    "scrolled": false
   },
   "outputs": [
    {
     "name": "stdout",
     "output_type": "stream",
     "text": [
      "Evaluating 0\n",
      "Evaluating 1\n",
      "Evaluating 2\n",
      "Evaluating 3\n",
      "Evaluating 4\n",
      "RMSE: \t 31541044869598.7617 +/- 63082009026357.6875\n",
      "MSE:  \t 4974177374267516317316677632.0000 +/- 9948354748522007819890720768.0000\n",
      "MAE:  \t 347255475880.2050 +/- 694510061691.9795\n",
      "R2:   \t -314328899992677384192.0000 +/- 628657799984536354816.0000\n"
     ]
    }
   ],
   "source": [
    "experiments.kfold_evaluate(regr, folds, scoring, log_y=True)"
   ]
  },
  {
   "cell_type": "code",
   "execution_count": null,
   "metadata": {},
   "outputs": [],
   "source": []
  },
  {
   "cell_type": "markdown",
   "metadata": {},
   "source": [
    "## Removing  features ['x', 'y', 'z'] given their correlation with the syntetics"
   ]
  },
  {
   "cell_type": "code",
   "execution_count": 32,
   "metadata": {},
   "outputs": [],
   "source": [
    "X = experiments.load_train_data()\n",
    "folds, (X_train, X_test, y_train, y_test) = experiments.gen_splits(X, scale=True, \n",
    "                                                             exclude_features= ['x', 'y', 'z'] )"
   ]
  },
  {
   "cell_type": "markdown",
   "metadata": {},
   "source": [
    "### Absolute Price"
   ]
  },
  {
   "cell_type": "code",
   "execution_count": 33,
   "metadata": {
    "scrolled": false
   },
   "outputs": [
    {
     "name": "stdout",
     "output_type": "stream",
     "text": [
      "Evaluating 0\n",
      "Evaluating 1\n",
      "Evaluating 2\n",
      "Evaluating 3\n",
      "Evaluating 4\n",
      "RMSE: \t 1443.4302 +/- 20.9028\n",
      "MSE:  \t 2083927.7941 +/- 60540.0749\n",
      "MAE:  \t 964.3509 +/- 7.3384\n",
      "R2:   \t 0.8690 +/- 0.0052\n"
     ]
    }
   ],
   "source": [
    "experiments.kfold_evaluate(regr, folds, scoring)"
   ]
  },
  {
   "cell_type": "markdown",
   "metadata": {},
   "source": [
    "### Log(price)"
   ]
  },
  {
   "cell_type": "code",
   "execution_count": 34,
   "metadata": {
    "scrolled": false
   },
   "outputs": [
    {
     "name": "stdout",
     "output_type": "stream",
     "text": [
      "Evaluating 0\n",
      "Evaluating 1\n",
      "Evaluating 2\n",
      "Evaluating 3\n",
      "Evaluating 4\n",
      "RMSE: \t 1110954.4228 +/- 2129037.6430\n",
      "MSE:  \t 5767021014796.2334 +/- 11525406605594.3438\n",
      "MAE:  \t 14007.3832 +/- 23393.4822\n",
      "R2:   \t -368522.6809 +/- 736503.2915\n"
     ]
    }
   ],
   "source": [
    "experiments.kfold_evaluate(regr, folds, scoring, log_y=True)"
   ]
  },
  {
   "cell_type": "code",
   "execution_count": null,
   "metadata": {},
   "outputs": [],
   "source": []
  },
  {
   "cell_type": "code",
   "execution_count": null,
   "metadata": {},
   "outputs": [],
   "source": []
  }
 ],
 "metadata": {
  "kernelspec": {
   "display_name": "Python 3",
   "language": "python",
   "name": "python3"
  },
  "language_info": {
   "codemirror_mode": {
    "name": "ipython",
    "version": 3
   },
   "file_extension": ".py",
   "mimetype": "text/x-python",
   "name": "python",
   "nbconvert_exporter": "python",
   "pygments_lexer": "ipython3",
   "version": "3.5.2"
  }
 },
 "nbformat": 4,
 "nbformat_minor": 2
}
